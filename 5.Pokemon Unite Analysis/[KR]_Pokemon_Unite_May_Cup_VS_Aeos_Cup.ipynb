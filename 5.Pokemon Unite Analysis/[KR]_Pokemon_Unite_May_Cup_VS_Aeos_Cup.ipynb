{
  "cells": [
    {
      "cell_type": "markdown",
      "metadata": {
        "id": "view-in-github",
        "colab_type": "text"
      },
      "source": [
        "<a href=\"https://colab.research.google.com/github/nujl/Liberty-Data-Science/blob/main/5.Pokemon%20Unite%20Analysis/%5BKR%5D_Pokemon_Unite_May_Cup_VS_Aeos_Cup.ipynb\" target=\"_parent\"><img src=\"https://colab.research.google.com/assets/colab-badge.svg\" alt=\"Open In Colab\"/></a>"
      ]
    },
    {
      "cell_type": "markdown",
      "source": [
        "# Libraries"
      ],
      "metadata": {
        "id": "a-zojlonfS5l"
      },
      "id": "a-zojlonfS5l"
    },
    {
      "cell_type": "code",
      "execution_count": 1,
      "id": "29c1804e",
      "metadata": {
        "id": "29c1804e"
      },
      "outputs": [],
      "source": [
        "import pandas as pd\n",
        "import numpy as np\n",
        "import matplotlib.pyplot as plt\n",
        "import seaborn as sns\n",
        "import collections\n",
        "\n",
        "%matplotlib inline"
      ]
    },
    {
      "cell_type": "markdown",
      "source": [
        "---\n",
        "# Data"
      ],
      "metadata": {
        "id": "zfCKg6TTfWF4"
      },
      "id": "zfCKg6TTfWF4"
    },
    {
      "cell_type": "code",
      "execution_count": 2,
      "id": "f8004e0d",
      "metadata": {
        "id": "f8004e0d"
      },
      "outputs": [],
      "source": [
        "df_aeos = pd.read_csv(\"https://raw.githubusercontent.com/nujl/Liberty-Data-Science/main/5.Pokemon%20Unite%20Analysis/data/Pokemon%20Unite%20Match%20Data%20%5BSouth%20Korea%5D%20-%20Aeos%20Cup%20-%20%20%5BKR%5D%204_22%7E23.csv\")\n",
        "\n",
        "df_may = pd.read_csv(\"https://raw.githubusercontent.com/nujl/Liberty-Data-Science/main/5.Pokemon%20Unite%20Analysis/data/Pokemon%20Unite%20Match%20Data%20%5BSouth%20Korea%5D%20-%20May%20Cup%20-%20Top%2016%20Teams%20%5BKR%5D%205_28.csv\")\n",
        "\n",
        "ALLPOKEMONS = ['Absol',\n",
        " 'Aegislash',\n",
        " 'Alolan_Ninetales',\n",
        " 'Azumarill',\n",
        " 'Blastoise',\n",
        " 'Blissey',\n",
        " 'Charizard',\n",
        " 'Cinderace',\n",
        " 'Cramorant',\n",
        " 'Crustle',\n",
        " 'Decidueye',\n",
        " 'Dragonite',\n",
        " 'Duraludon',\n",
        " 'Eldegoss',\n",
        "'Espeon',\n",
        " 'Garchomp',\n",
        " 'Gardevoir',\n",
        " 'Gengar',\n",
        " 'Greedent',\n",
        " 'Greninja',\n",
        " 'Hoopa',\n",
        " 'Lucario',\n",
        " 'Machamp',\n",
        " 'Mamoswine',\n",
        " 'Mr._Mime',\n",
        " 'Pikachu',\n",
        " 'Slowbro',\n",
        " 'Snorlax',\n",
        " 'Sylveon',\n",
        " 'Talonflame',\n",
        " 'Trevenant',\n",
        " 'Tsareena',\n",
        " 'Venusaur',\n",
        " 'Wigglytuff',\n",
        " 'Zeraora']\n",
        "\n",
        "ALLPOKEMONS_KR = ['앱솔',\n",
        " '킬가르도',\n",
        " '알로라 나인테일',\n",
        " '마릴리',\n",
        " '거북왕',\n",
        " '해피너스',\n",
        " '리자몽',\n",
        " '에이스번',\n",
        " '윽우지',\n",
        " '암팰리스',\n",
        " '모크나이퍼',\n",
        " '망나뇽',\n",
        " '두랄루돈',\n",
        " '백솜모카',\n",
        "'에브이',\n",
        " '한카리아스',\n",
        " '가디안',\n",
        " '팬텀',\n",
        " '요씽리스',\n",
        " '개굴닌자',\n",
        " '후파',\n",
        " '루카리오',\n",
        " '괴력몬',\n",
        " '맘모꾸리',\n",
        " '마임맨',\n",
        " '피카츄',\n",
        " '야도란',\n",
        " '잠만보',\n",
        " '님피아',\n",
        " '파이어로',\n",
        " '대로트',\n",
        " '달코퀸',\n",
        " '이상해꽃',\n",
        " '푸크린',\n",
        " '제라오라']"
      ]
    },
    {
      "cell_type": "code",
      "execution_count": 3,
      "id": "144b4043",
      "metadata": {
        "id": "144b4043",
        "outputId": "85782a50-9ef9-4eba-ba77-d8279fcfbfc3",
        "colab": {
          "base_uri": "https://localhost:8080/",
          "height": 417
        }
      },
      "outputs": [
        {
          "output_type": "stream",
          "name": "stdout",
          "text": [
            "(32, 61)\n"
          ]
        },
        {
          "output_type": "execute_result",
          "data": {
            "text/plain": [
              "   Team Blue   Team Red  FinalScoreBlue  FInalScoreRed         BP1  \\\n",
              "0  Z Crystal       두부조림             579            279  Talonflame   \n",
              "1       두부조림  Z Crystal             112            531    Tsareena   \n",
              "2    Persona   Eternity             927            961   Dragonite   \n",
              "3   Eternity    Persona             905            388    Greedent   \n",
              "4    No Show       한탕주의             500            519   Cinderace   \n",
              "\n",
              "                BP2       BP3         BP4         BP5         RP1  ...  \\\n",
              "0  Alolan_Ninetales  Tsareena    Venusaur       Hoopa  Talonflame  ...   \n",
              "1        Wigglytuff   Pikachu  Talonflame   Duraludon  Talonflame  ...   \n",
              "2          Greedent   Lucario  Wigglytuff  Talonflame    Greedent  ...   \n",
              "3        Talonflame   Lucario  Wigglytuff   Dragonite   Cinderace  ...   \n",
              "4             Hoopa   Slowbro     Lucario  Talonflame     Lucario  ...   \n",
              "\n",
              "         RP5_BI1        RP5_BI2        RP5_BI3 DRED1 DRED2 DRED3 ROTOM1  \\\n",
              "0  Buddy Barrier   Choice Specs     Focus Band  Blue  Blue   Red    Red   \n",
              "1  Buddy Barrier    Muscle Band     Focus Band   Red   Red   Red   Blue   \n",
              "2    Muscle Band   Score Shield  Buddy Barrier   Red   Red  Blue    Red   \n",
              "3  Attack Weight     Razor Claw  Buddy Barrier   Red   Red   Red   Blue   \n",
              "4    Muscle Band  Buddy Barrier     Scope Lens   Red   Red  None    Red   \n",
              "\n",
              "  ROTOM2 ROTOM3 ZAPDOS  \n",
              "0    Red   None   Blue  \n",
              "1   Blue   Blue    Red  \n",
              "2    Red   None   Blue  \n",
              "3    Red   None   Blue  \n",
              "4    Red   None   Blue  \n",
              "\n",
              "[5 rows x 61 columns]"
            ],
            "text/html": [
              "\n",
              "  <div id=\"df-a0284484-ef1a-4aca-9737-2b885a931b53\">\n",
              "    <div class=\"colab-df-container\">\n",
              "      <div>\n",
              "<style scoped>\n",
              "    .dataframe tbody tr th:only-of-type {\n",
              "        vertical-align: middle;\n",
              "    }\n",
              "\n",
              "    .dataframe tbody tr th {\n",
              "        vertical-align: top;\n",
              "    }\n",
              "\n",
              "    .dataframe thead th {\n",
              "        text-align: right;\n",
              "    }\n",
              "</style>\n",
              "<table border=\"1\" class=\"dataframe\">\n",
              "  <thead>\n",
              "    <tr style=\"text-align: right;\">\n",
              "      <th></th>\n",
              "      <th>Team Blue</th>\n",
              "      <th>Team Red</th>\n",
              "      <th>FinalScoreBlue</th>\n",
              "      <th>FInalScoreRed</th>\n",
              "      <th>BP1</th>\n",
              "      <th>BP2</th>\n",
              "      <th>BP3</th>\n",
              "      <th>BP4</th>\n",
              "      <th>BP5</th>\n",
              "      <th>RP1</th>\n",
              "      <th>...</th>\n",
              "      <th>RP5_BI1</th>\n",
              "      <th>RP5_BI2</th>\n",
              "      <th>RP5_BI3</th>\n",
              "      <th>DRED1</th>\n",
              "      <th>DRED2</th>\n",
              "      <th>DRED3</th>\n",
              "      <th>ROTOM1</th>\n",
              "      <th>ROTOM2</th>\n",
              "      <th>ROTOM3</th>\n",
              "      <th>ZAPDOS</th>\n",
              "    </tr>\n",
              "  </thead>\n",
              "  <tbody>\n",
              "    <tr>\n",
              "      <th>0</th>\n",
              "      <td>Z Crystal</td>\n",
              "      <td>두부조림</td>\n",
              "      <td>579</td>\n",
              "      <td>279</td>\n",
              "      <td>Talonflame</td>\n",
              "      <td>Alolan_Ninetales</td>\n",
              "      <td>Tsareena</td>\n",
              "      <td>Venusaur</td>\n",
              "      <td>Hoopa</td>\n",
              "      <td>Talonflame</td>\n",
              "      <td>...</td>\n",
              "      <td>Buddy Barrier</td>\n",
              "      <td>Choice Specs</td>\n",
              "      <td>Focus Band</td>\n",
              "      <td>Blue</td>\n",
              "      <td>Blue</td>\n",
              "      <td>Red</td>\n",
              "      <td>Red</td>\n",
              "      <td>Red</td>\n",
              "      <td>None</td>\n",
              "      <td>Blue</td>\n",
              "    </tr>\n",
              "    <tr>\n",
              "      <th>1</th>\n",
              "      <td>두부조림</td>\n",
              "      <td>Z Crystal</td>\n",
              "      <td>112</td>\n",
              "      <td>531</td>\n",
              "      <td>Tsareena</td>\n",
              "      <td>Wigglytuff</td>\n",
              "      <td>Pikachu</td>\n",
              "      <td>Talonflame</td>\n",
              "      <td>Duraludon</td>\n",
              "      <td>Talonflame</td>\n",
              "      <td>...</td>\n",
              "      <td>Buddy Barrier</td>\n",
              "      <td>Muscle Band</td>\n",
              "      <td>Focus Band</td>\n",
              "      <td>Red</td>\n",
              "      <td>Red</td>\n",
              "      <td>Red</td>\n",
              "      <td>Blue</td>\n",
              "      <td>Blue</td>\n",
              "      <td>Blue</td>\n",
              "      <td>Red</td>\n",
              "    </tr>\n",
              "    <tr>\n",
              "      <th>2</th>\n",
              "      <td>Persona</td>\n",
              "      <td>Eternity</td>\n",
              "      <td>927</td>\n",
              "      <td>961</td>\n",
              "      <td>Dragonite</td>\n",
              "      <td>Greedent</td>\n",
              "      <td>Lucario</td>\n",
              "      <td>Wigglytuff</td>\n",
              "      <td>Talonflame</td>\n",
              "      <td>Greedent</td>\n",
              "      <td>...</td>\n",
              "      <td>Muscle Band</td>\n",
              "      <td>Score Shield</td>\n",
              "      <td>Buddy Barrier</td>\n",
              "      <td>Red</td>\n",
              "      <td>Red</td>\n",
              "      <td>Blue</td>\n",
              "      <td>Red</td>\n",
              "      <td>Red</td>\n",
              "      <td>None</td>\n",
              "      <td>Blue</td>\n",
              "    </tr>\n",
              "    <tr>\n",
              "      <th>3</th>\n",
              "      <td>Eternity</td>\n",
              "      <td>Persona</td>\n",
              "      <td>905</td>\n",
              "      <td>388</td>\n",
              "      <td>Greedent</td>\n",
              "      <td>Talonflame</td>\n",
              "      <td>Lucario</td>\n",
              "      <td>Wigglytuff</td>\n",
              "      <td>Dragonite</td>\n",
              "      <td>Cinderace</td>\n",
              "      <td>...</td>\n",
              "      <td>Attack Weight</td>\n",
              "      <td>Razor Claw</td>\n",
              "      <td>Buddy Barrier</td>\n",
              "      <td>Red</td>\n",
              "      <td>Red</td>\n",
              "      <td>Red</td>\n",
              "      <td>Blue</td>\n",
              "      <td>Red</td>\n",
              "      <td>None</td>\n",
              "      <td>Blue</td>\n",
              "    </tr>\n",
              "    <tr>\n",
              "      <th>4</th>\n",
              "      <td>No Show</td>\n",
              "      <td>한탕주의</td>\n",
              "      <td>500</td>\n",
              "      <td>519</td>\n",
              "      <td>Cinderace</td>\n",
              "      <td>Hoopa</td>\n",
              "      <td>Slowbro</td>\n",
              "      <td>Lucario</td>\n",
              "      <td>Talonflame</td>\n",
              "      <td>Lucario</td>\n",
              "      <td>...</td>\n",
              "      <td>Muscle Band</td>\n",
              "      <td>Buddy Barrier</td>\n",
              "      <td>Scope Lens</td>\n",
              "      <td>Red</td>\n",
              "      <td>Red</td>\n",
              "      <td>None</td>\n",
              "      <td>Red</td>\n",
              "      <td>Red</td>\n",
              "      <td>None</td>\n",
              "      <td>Blue</td>\n",
              "    </tr>\n",
              "  </tbody>\n",
              "</table>\n",
              "<p>5 rows × 61 columns</p>\n",
              "</div>\n",
              "      <button class=\"colab-df-convert\" onclick=\"convertToInteractive('df-a0284484-ef1a-4aca-9737-2b885a931b53')\"\n",
              "              title=\"Convert this dataframe to an interactive table.\"\n",
              "              style=\"display:none;\">\n",
              "        \n",
              "  <svg xmlns=\"http://www.w3.org/2000/svg\" height=\"24px\"viewBox=\"0 0 24 24\"\n",
              "       width=\"24px\">\n",
              "    <path d=\"M0 0h24v24H0V0z\" fill=\"none\"/>\n",
              "    <path d=\"M18.56 5.44l.94 2.06.94-2.06 2.06-.94-2.06-.94-.94-2.06-.94 2.06-2.06.94zm-11 1L8.5 8.5l.94-2.06 2.06-.94-2.06-.94L8.5 2.5l-.94 2.06-2.06.94zm10 10l.94 2.06.94-2.06 2.06-.94-2.06-.94-.94-2.06-.94 2.06-2.06.94z\"/><path d=\"M17.41 7.96l-1.37-1.37c-.4-.4-.92-.59-1.43-.59-.52 0-1.04.2-1.43.59L10.3 9.45l-7.72 7.72c-.78.78-.78 2.05 0 2.83L4 21.41c.39.39.9.59 1.41.59.51 0 1.02-.2 1.41-.59l7.78-7.78 2.81-2.81c.8-.78.8-2.07 0-2.86zM5.41 20L4 18.59l7.72-7.72 1.47 1.35L5.41 20z\"/>\n",
              "  </svg>\n",
              "      </button>\n",
              "      \n",
              "  <style>\n",
              "    .colab-df-container {\n",
              "      display:flex;\n",
              "      flex-wrap:wrap;\n",
              "      gap: 12px;\n",
              "    }\n",
              "\n",
              "    .colab-df-convert {\n",
              "      background-color: #E8F0FE;\n",
              "      border: none;\n",
              "      border-radius: 50%;\n",
              "      cursor: pointer;\n",
              "      display: none;\n",
              "      fill: #1967D2;\n",
              "      height: 32px;\n",
              "      padding: 0 0 0 0;\n",
              "      width: 32px;\n",
              "    }\n",
              "\n",
              "    .colab-df-convert:hover {\n",
              "      background-color: #E2EBFA;\n",
              "      box-shadow: 0px 1px 2px rgba(60, 64, 67, 0.3), 0px 1px 3px 1px rgba(60, 64, 67, 0.15);\n",
              "      fill: #174EA6;\n",
              "    }\n",
              "\n",
              "    [theme=dark] .colab-df-convert {\n",
              "      background-color: #3B4455;\n",
              "      fill: #D2E3FC;\n",
              "    }\n",
              "\n",
              "    [theme=dark] .colab-df-convert:hover {\n",
              "      background-color: #434B5C;\n",
              "      box-shadow: 0px 1px 3px 1px rgba(0, 0, 0, 0.15);\n",
              "      filter: drop-shadow(0px 1px 2px rgba(0, 0, 0, 0.3));\n",
              "      fill: #FFFFFF;\n",
              "    }\n",
              "  </style>\n",
              "\n",
              "      <script>\n",
              "        const buttonEl =\n",
              "          document.querySelector('#df-a0284484-ef1a-4aca-9737-2b885a931b53 button.colab-df-convert');\n",
              "        buttonEl.style.display =\n",
              "          google.colab.kernel.accessAllowed ? 'block' : 'none';\n",
              "\n",
              "        async function convertToInteractive(key) {\n",
              "          const element = document.querySelector('#df-a0284484-ef1a-4aca-9737-2b885a931b53');\n",
              "          const dataTable =\n",
              "            await google.colab.kernel.invokeFunction('convertToInteractive',\n",
              "                                                     [key], {});\n",
              "          if (!dataTable) return;\n",
              "\n",
              "          const docLinkHtml = 'Like what you see? Visit the ' +\n",
              "            '<a target=\"_blank\" href=https://colab.research.google.com/notebooks/data_table.ipynb>data table notebook</a>'\n",
              "            + ' to learn more about interactive tables.';\n",
              "          element.innerHTML = '';\n",
              "          dataTable['output_type'] = 'display_data';\n",
              "          await google.colab.output.renderOutput(dataTable, element);\n",
              "          const docLink = document.createElement('div');\n",
              "          docLink.innerHTML = docLinkHtml;\n",
              "          element.appendChild(docLink);\n",
              "        }\n",
              "      </script>\n",
              "    </div>\n",
              "  </div>\n",
              "  "
            ]
          },
          "metadata": {},
          "execution_count": 3
        }
      ],
      "source": [
        "print(df_aeos.shape)\n",
        "\n",
        "df_aeos.head()"
      ]
    },
    {
      "cell_type": "markdown",
      "id": "f80d3929",
      "metadata": {
        "id": "f80d3929"
      },
      "source": [
        "---\n",
        "## Adding a Victory Column based on the scores"
      ]
    },
    {
      "cell_type": "code",
      "execution_count": 4,
      "id": "df27f855",
      "metadata": {
        "id": "df27f855"
      },
      "outputs": [],
      "source": [
        "for df in [df_aeos, df_may]:\n",
        "    vic_list = []\n",
        "    for i in range(df.shape[0]):\n",
        "        if df.iloc[i][\"Team Blue\"] > df.iloc[i][\"Team Red\"]:\n",
        "            vic_list.append(\"Blue\")\n",
        "        else:\n",
        "            vic_list.append(\"Red\")\n",
        "    df[\"Victory\"] = vic_list"
      ]
    },
    {
      "cell_type": "markdown",
      "id": "a971f762",
      "metadata": {
        "id": "a971f762"
      },
      "source": [
        "---\n",
        "## Usage Rates"
      ]
    },
    {
      "cell_type": "code",
      "execution_count": 5,
      "id": "33c1ef7f",
      "metadata": {
        "id": "33c1ef7f",
        "outputId": "9f2b07c0-7f5d-48a7-9ab4-d0441f639a8f",
        "colab": {
          "base_uri": "https://localhost:8080/"
        }
      },
      "outputs": [
        {
          "output_type": "stream",
          "name": "stdout",
          "text": [
            "Top 5 Usage Rates May:\n",
            "Blastoise    100.00\n",
            "Hoopa         78.12\n",
            "Greninja      71.88\n",
            "Aegislash     56.25\n",
            "Blissey       43.75\n",
            "Name: Usage Rate (%) May, dtype: float64\n",
            "Top 5 Usage Rates Aeos:\n",
            "Talonflame    89.06\n",
            "Lucario       84.38\n",
            "Hoopa         82.81\n",
            "Greedent      29.69\n",
            "Cinderace     26.56\n",
            "Name: Usage Rate (%) Aeos, dtype: float64\n"
          ]
        }
      ],
      "source": [
        "def otamu_method(game_num, df, name):\n",
        "        \n",
        "    ini_dict = [df[col].value_counts().to_dict() for col in df.columns[4:14]]\n",
        "    counter = collections.Counter()\n",
        "    for d in ini_dict: \n",
        "        counter.update(d)\n",
        "\n",
        "    counts = dict(counter)\n",
        "   \n",
        "    pdict = {key:round(value/game_num * 5 * 10, 2) for key, value in counts.items()}\n",
        "        \n",
        "    ndict = {key:value for key,value in pdict.items()}\n",
        "    ndf = pd.Series(data=ndict, name=f\"Usage Rate (%) {name}\").sort_values(ascending=False)\n",
        "    \n",
        "    ZEROUSAGE = [pokemon for pokemon in ALLPOKEMONS if pokemon not in ndf.keys().tolist()]\n",
        "\n",
        "    return ndf, ZEROUSAGE, counts\n",
        "    \n",
        "ndf_may, zeros_may, counts_may= otamu_method(df_may.shape[0], df_may, \"May\")\n",
        "ndf_aeos, zeros_aeos, counts_aeos= otamu_method(df_aeos.shape[0], df_aeos, \"Aeos\")\n",
        "\n",
        "print(\"Top 5 Usage Rates May:\")\n",
        "print(ndf_may.head())\n",
        "\n",
        "print(\"Top 5 Usage Rates Aeos:\")\n",
        "print(ndf_aeos.head())"
      ]
    },
    {
      "cell_type": "code",
      "execution_count": 6,
      "id": "00e23b6a",
      "metadata": {
        "id": "00e23b6a",
        "outputId": "1972423c-63cb-4645-e3d1-d27c9c3bf85a",
        "colab": {
          "base_uri": "https://localhost:8080/"
        }
      },
      "outputs": [
        {
          "output_type": "execute_result",
          "data": {
            "text/plain": [
              "{'Greninja': 23,\n",
              " 'Lucario': 8,\n",
              " 'Cramorant': 3,\n",
              " 'Aegislash': 18,\n",
              " 'Blastoise': 32,\n",
              " 'Greedent': 7,\n",
              " 'Alolan_Ninetales': 2,\n",
              " 'Hoopa': 25,\n",
              " 'Blissey': 14,\n",
              " 'Zeraora': 6,\n",
              " 'Tsareena': 6,\n",
              " 'Trevenant': 8,\n",
              " 'Wigglytuff': 5,\n",
              " 'Venusaur': 1,\n",
              " 'Gengar': 2}"
            ]
          },
          "metadata": {},
          "execution_count": 6
        }
      ],
      "source": [
        "counts_may"
      ]
    },
    {
      "cell_type": "markdown",
      "id": "2510b823",
      "metadata": {
        "id": "2510b823"
      },
      "source": [
        "---\n",
        "## Win Rates"
      ]
    },
    {
      "cell_type": "code",
      "execution_count": 7,
      "id": "553d646c",
      "metadata": {
        "id": "553d646c",
        "outputId": "5590c9dc-4f62-453a-d9c2-7a5dc2ca433f",
        "colab": {
          "base_uri": "https://localhost:8080/"
        }
      },
      "outputs": [
        {
          "output_type": "stream",
          "name": "stdout",
          "text": [
            "Top 5 Win Rates May:\n",
            "Blastoise    100.0\n",
            "Trevenant    100.0\n",
            "Gengar       100.0\n",
            "Hoopa         87.5\n",
            "Greninja      75.0\n",
            "Name: Win Rates (%), dtype: float64\n",
            "Top 5 Win Rates Aeos:\n",
            "Snorlax      100.00\n",
            "Duraludon    100.00\n",
            "Charizard    100.00\n",
            "Pikachu      100.00\n",
            "Hoopa         96.77\n",
            "Name: Win Rates (%), dtype: float64\n"
          ]
        }
      ],
      "source": [
        "def win_rate(df, counts):\n",
        "    \n",
        "    present_pokemons = list(counts.keys())\n",
        "    wincount = {key:0 for key, value in counts.items()}\n",
        "    truecount = {key:0 for key, value in counts.items()}\n",
        "    \n",
        "    for pokemon in present_pokemons:\n",
        "        for i in range(df.shape[0]):\n",
        "            if (pokemon in list(df.iloc[i][4:9])) and (pokemon in list(df.iloc[i][9:14])):\n",
        "                wincount[pokemon] += 1\n",
        "                truecount[pokemon] += 1\n",
        "            elif (pokemon in list(df.iloc[i][4:9])) or (pokemon in list(df.iloc[i][9:14])):\n",
        "                truecount[pokemon] += 1\n",
        "                if (((df.iloc[i][-1] == \"Blue\") and (pokemon in list(df.iloc[i][4:9]))) or\n",
        "                   ((df.iloc[i][-1] == \"Red\") and (pokemon in list(df.iloc[i][9:14])))):\n",
        "                    wincount[pokemon] += 1\n",
        "            else:\n",
        "                pass\n",
        "\n",
        "#     print(pd.Series(wincount), pd.Series(truecount))\n",
        "    winrates = {key:round(value/truecount[key]*100, 2) for key, value in wincount.items()}\n",
        "    winrates = pd.Series(data=winrates, name=\"Win Rates (%)\").sort_values(ascending=False)\n",
        "    return winrates, truecount\n",
        "\n",
        "winrates_may, truecount_may = win_rate(df_may, counts_may)\n",
        "winrates_aeos, truecount_aeos = win_rate(df_aeos, counts_aeos)\n",
        "print(\"Top 5 Win Rates May:\")\n",
        "print(winrates_may.head())\n",
        "\n",
        "print(\"Top 5 Win Rates Aeos:\")\n",
        "print(winrates_aeos.head())"
      ]
    },
    {
      "cell_type": "markdown",
      "id": "971f3790",
      "metadata": {
        "id": "971f3790"
      },
      "source": [
        "---\n",
        "# Usage Rate Aeos Cup vs May Cup (KR | ENG)"
      ]
    },
    {
      "cell_type": "code",
      "execution_count": 8,
      "id": "d826875d",
      "metadata": {
        "id": "d826875d",
        "outputId": "e174c0ed-d431-47ea-b630-2a00762f91a0",
        "colab": {
          "base_uri": "https://localhost:8080/"
        }
      },
      "outputs": [
        {
          "output_type": "execute_result",
          "data": {
            "text/plain": [
              "array([['Hoopa', 78.12, 82.81, 80.46],\n",
              "       ['Blastoise', 100.0, 21.88, 60.94],\n",
              "       ['Lucario', 25.0, 84.38, 54.69],\n",
              "       ['Talonflame', 0.0, 89.06, 44.53]], dtype=object)"
            ]
          },
          "metadata": {},
          "execution_count": 8
        }
      ],
      "source": [
        "combined_df = pd.concat([ndf_may, ndf_aeos], axis=1)\n",
        "combined_df.fillna(0, inplace=True)\n",
        "avg_list = []\n",
        "for i in range(combined_df.shape[0]):\n",
        "    total = (combined_df[\"Usage Rate (%) May\"].iloc[i] + combined_df[\"Usage Rate (%) Aeos\"].iloc[i])\n",
        "    avg = round(total/2, 2)\n",
        "    avg_list.append(avg)\n",
        "\n",
        "combined_df[\"Average Usage\"] = avg_list\n",
        "combined_df.sort_values(\"Average Usage\", ascending=False, inplace=True)\n",
        "combined_df.reset_index(inplace=True)\n",
        "combined_df.values[:4]"
      ]
    },
    {
      "cell_type": "code",
      "source": [
        "!wget \"https://noto-website-2.storage.googleapis.com/pkgs/NotoSansCJKkr-hinted.zip\"\n",
        "!unzip \"NotoSansCJKkr-hinted.zip\"\n",
        "!mv \"NotoSansCJKkr-Medium.otf\" \"/usr/share/fonts/truetype\""
      ],
      "metadata": {
        "id": "nVxGWrm3Ersi"
      },
      "id": "nVxGWrm3Ersi",
      "execution_count": null,
      "outputs": []
    },
    {
      "cell_type": "code",
      "execution_count": 10,
      "id": "96374bbf",
      "metadata": {
        "id": "96374bbf",
        "outputId": "ca49f00c-a9d5-4f70-9780-857ca4f16263",
        "colab": {
          "base_uri": "https://localhost:8080/",
          "height": 977
        }
      },
      "outputs": [
        {
          "output_type": "execute_result",
          "data": {
            "text/plain": [
              "<matplotlib.legend.Legend at 0x7ff841049d50>"
            ]
          },
          "metadata": {},
          "execution_count": 10
        },
        {
          "output_type": "display_data",
          "data": {
            "text/plain": [
              "<Figure size 1440x1440 with 1 Axes>"
            ],
            "image/png": "[encoded data removed]"
          },
          "metadata": {
            "needs_background": "light"
          }
        }
      ],
      "source": [
        "import requests\n",
        "from io import BytesIO\n",
        "import matplotlib.pyplot as plt\n",
        "from matplotlib.offsetbox import OffsetImage, AnnotationBbox\n",
        "\n",
        "modified_df = combined_df.copy()\n",
        "\n",
        "from matplotlib import font_manager\n",
        "\n",
        "font_path = \"/usr/share/fonts/truetype/NotoSansCJKkr-Medium.otf\" \n",
        "font_manager.fontManager.addfont(font_path)\n",
        "prop = font_manager.FontProperties(fname=font_path)\n",
        "\n",
        "plt.rcParams['font.family'] = 'sans-serif'\n",
        "plt.rcParams['font.sans-serif'] = prop.get_name()\n",
        "\n",
        "def change(poke):\n",
        "    poke_kr = ALLPOKEMONS_KR[ALLPOKEMONS.index(poke)]\n",
        "    return f\"{poke_kr} | {poke}       \"\n",
        "\n",
        "def offset_image(y, pokemon, ax):\n",
        "    if pokemon == \"Alolan_Ninetales\": \n",
        "        pokemon = \"Ninetales\"\n",
        "    response = requests.get(f\"https://static.wikia.nocookie.net/pokemonunite/images/b/bc/P{pokemon}.png/revision/latest/scale-to-width-down/100?cb=20210806135304\")\n",
        "    img = plt.imread(BytesIO(response.content), 0)\n",
        "    im = OffsetImage(img, zoom=0.35)\n",
        "    im.image.axes = ax\n",
        "    x_offset = -25\n",
        "    x = -30\n",
        "    ab = AnnotationBbox(im, (0, y), xybox=(x_offset, 0), frameon=False,\n",
        "                        xycoords='data', boxcoords=\"offset points\", pad=0)\n",
        "    ax.add_artist(ab)\n",
        "\n",
        "modified_df[\"index\"] = modified_df[\"index\"].apply(lambda p: change(p))\n",
        "\n",
        "fig, ax = plt.subplots(1,1)\n",
        "modified_df.plot(x=\"index\", y=[\"Usage Rate (%) Aeos\", \"Usage Rate (%) May\"], kind=\"barh\", figsize=(20, 20), ax=ax, color=[\"#AAB8E5\", \"#99004d\"])\n",
        "ax.invert_yaxis()\n",
        "ax.set_ylabel(\"Pokemons\")\n",
        "ax.set_xlabel(\"Percentage (%)\")\n",
        "ax.set_title(\"[KR] Usage Rates Aeos Cup[4/22~23/22] vs May Cup[5/28/22]\")\n",
        "\n",
        "for i, [p, u1, u2, au] in enumerate(modified_df.values):\n",
        "    ax.text(u1+0.2, i+.2, str(u1), fontsize=10)\n",
        "    ax.text(u2+0.2, i-.08, str(u2), fontsize=10)\n",
        "    \n",
        "# *Displaying Images*\n",
        "# for i, [p, u1, u2, au] in enumerate(combined_df.values):\n",
        "#     offset_image(i, p, ax=plt.gca())\n",
        "    \n",
        "plt.grid(True)\n",
        "plt.legend([\"Aeos Cup\", \"May Cup\"])"
      ]
    }
  ],
  "metadata": {
    "kernelspec": {
      "display_name": "Python 3 (ipykernel)",
      "language": "python",
      "name": "python3"
    },
    "language_info": {
      "codemirror_mode": {
        "name": "ipython",
        "version": 3
      },
      "file_extension": ".py",
      "mimetype": "text/x-python",
      "name": "python",
      "nbconvert_exporter": "python",
      "pygments_lexer": "ipython3",
      "version": "3.9.12"
    },
    "colab": {
      "name": "[KR] Pokemon Unite May Cup VS Aeos Cup.ipynb",
      "provenance": [],
      "include_colab_link": true
    }
  },
  "nbformat": 4,
  "nbformat_minor": 5
}